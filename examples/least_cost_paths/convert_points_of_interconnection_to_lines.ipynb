{
 "cells": [
  {
   "attachments": {},
   "cell_type": "markdown",
   "metadata": {},
   "source": [
    "# Convert POIs to lines \n",
    "All elements in the tranmission features file must be lines. Convert POIs to\n",
    "lines and add a fake transmission line to make the LCP code happy.\n",
    "\n",
    "NOTE: The `offshore-layer-creator` CLI can be used to perform the same\n",
    "functionality."
   ]
  },
  {
   "cell_type": "code",
   "execution_count": null,
   "metadata": {},
   "outputs": [],
   "source": [
    "from reVX.least_cost_xmission.offshore_utilities import convert_pois_to_lines"
   ]
  },
  {
   "cell_type": "code",
   "execution_count": null,
   "metadata": {},
   "outputs": [],
   "source": [
    "# The CSV needs the following fields: 'POI Name', 'State', 'Voltage (kV)', 'Lat', 'Long'\n",
    "pois_csv_f = '/shared-projects/rev/transmission_tables/least_cost/offshore/poi_march_30_2022.csv'\n",
    "template_f = '/shared-projects/rev/projects/aoswt/data/exclusions/dpp_option_areas.tif'\n",
    "out_f ='./trans_feats.gpkg'\n",
    "\n",
    "convert_pois_to_lines(pois_csv_f, template_f, out_f)"
   ]
  }
 ],
 "metadata": {
  "kernelspec": {
   "display_name": "Python 3 (ipykernel)",
   "language": "python",
   "name": "python3"
  },
  "language_info": {
   "codemirror_mode": {
    "name": "ipython",
    "version": 3
   },
   "file_extension": ".py",
   "mimetype": "text/x-python",
   "name": "python",
   "nbconvert_exporter": "python",
   "pygments_lexer": "ipython3",
   "version": "3.8.12"
  }
 },
 "nbformat": 4,
 "nbformat_minor": 4
}
