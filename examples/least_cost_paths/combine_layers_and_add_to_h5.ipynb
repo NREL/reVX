{
 "cells": [
  {
   "cell_type": "markdown",
   "metadata": {},
   "source": [
    "# Combine all on- and off-shore land and barrier layers\n",
    "This is an example workflow for setting up the friction and barriers for an\n",
    "off-shore least cost paths analysis. This incorporates existing land-based costs\n",
    "and barriers into the final friction and barrier rasters. Note that costs for \n",
    "offshore transmission are not actually calculated. Instead, relative frictions \n",
    "are assigned to areas that areas that difficult to lay cables in, such as steep \n",
    "terrain and shipping lanes. \n",
    "\n",
    "Areas that should not be used for transmission are referred to as barriers. Note \n",
    "that barriers are not impenetrable within the routing and may actually be used for \n",
    "transmission. The barriers are used as a high friction multiplier to strongly discourage \n",
    "transmission.  The multiplier can be set as an option in  the JSON config file for the \n",
    "`least-cost-xmission` CLI. "
   ]
  },
  {
   "cell_type": "code",
   "execution_count": null,
   "metadata": {},
   "outputs": [],
   "source": [
    "import logging\n",
    "from rex.utilities.loggers import init_logger\n",
    "from reVX.least_cost_xmission.aoswt_utilities import CombineRasters\n",
    "\n",
    "logger = logging.getLogger(__name__)\n",
    "init_logger('reVX', log_level=\"DEBUG\")"
   ]
  },
  {
   "cell_type": "markdown",
   "metadata": {},
   "source": [
    "## General configuration and layers\n",
    "The primary goal of this process is creating the friction and barrier layers. \n",
    "There are many optional steps that can be performed to adjust the final friction\n",
    "and barriers."
   ]
  },
  {
   "cell_type": "code",
   "execution_count": null,
   "metadata": {},
   "outputs": [],
   "source": [
    "# Default layer location so we don't have to write the full path for all tiffs.\n",
    "layer_dir = '/shared-projects/rev/projects/aoswt/data/exclusions'\n",
    "\n",
    "# Template raster to pull transform, etc. from\n",
    "template_f ='/shared-projects/rev/projects/aoswt/data/exclusions/adjusted_shipping_lanes.tif'"
   ]
  },
  {
   "cell_type": "code",
   "execution_count": null,
   "metadata": {},
   "outputs": [],
   "source": [
    "# The barrier rasters have one or more values to \"bar\" in the first position of\n",
    "# the tuple. Single values should be an int, multiple values should use a list. \n",
    "# Any other values in the raster are considered open and not used as a barrier.\n",
    "# Simple filenames without a path will have the layer_dir path prepended to them.\n",
    "barrier_files = [\n",
    "    (1, 'military_ship_shock_boxes.tif'),\n",
    "    (1, 'artificial_reefs.tif'),\n",
    "    (1, 'danger_zones_and_restricted_areas.tif'),\n",
    "    (1, 'usace_placement_areas.tif'),\n",
    "    (1, 'usace_sand_borrow_areas.tif'),\n",
    "    (1, 'usace_sad_sand_borrow_areas.tif'),\n",
    "    (1, 'boem_sand_borrow_areas.tif'),\n",
    "    (1, 'boem_marine_mineral_areas.tif'),\n",
    "    (1, 'unexploded_ordnance_locations_100m_buffer.tif'),\n",
    "    (1, 'dpp_option_areas.tif'),\n",
    "    (3, 'dod_designations.tif'),\n",
    "    ([1,2,3,4], 'ocean_disposal_sites.tif'),\n",
    "    ([1,2,3,4,6], 'conservation_areas.tif'),\n",
    "    (1, '/shared-projects/rev/projects/aoswt/data/rasters/conmap_sediment_low_medium_high.tif'),\n",
    "]\n",
    "\n",
    "# Force include layers (optional). These layers will override the barrier layers. Cells\n",
    "# with values in the first position of the tuple (int or list) will be forced\n",
    "# \"open\" if barricaded by the barrier_files. Cells with any other values will\n",
    "# be ignored.\n",
    "forced_inclusion_files = [\n",
    "    (1, 'boem_wind_planning_areas_03292021.tif'),\n",
    "    (1, 'boem_wind_leases_06082021.tif'),\n",
    "    (1, 'aoswt_ad_hoc_forced_inclusions.tif'),\n",
    "]\n",
    "\n",
    "# Friction (cost) layers. The tuples consist of a dict with friction values and the\n",
    "# path to the raster. The dict keys are the values in the raster with dict values being\n",
    "# the friction to assign. Any values in the raster not listed in the dict are \n",
    "# ignored. Note that overlapping frictions are added together in the final friction file. \n",
    "friction_files = [\n",
    "    # ({'cell value in tiff': 'corresponding friction', ...}, 'filename.tif')\n",
    "    ({1: 1, 2: 10, 3:5}, 'adjusted_shipping_lanes.tif'),\n",
    "    ({1: 5}, 'abb_gas_pipelines_61m_buffer.tif'),\n",
    "    ({1: 10}, 'federal_channels.tif'),\n",
    "    ({1: 10, 2: 5, 3: 0},'/shared-projects/rev/projects/aoswt/data/rasters/conmap_sediment_low_medium_high.tif'),\n",
    "]\n",
    "\n",
    "# Bathymetric slope (optional) is used for both friction and as a barrier. Slope configuration can be set\n",
    "# in CombineRasters.__init__()\n",
    "slope_file = 'atlantic_coast_slope.tif'\n",
    "\n",
    "# Bathymetry (optional). Areas greater than a selected depth can be assigned a friction value.\n",
    "bathy_file = '/shared-projects/rev/projects/weto/fy21/offshore/data/rasters/keepers/bathymetry.tif'\n",
    "\n",
    "# A land/ocean raster must be used to determine where to use land-based costs and barriers\n",
    "# versus offshore friction and barriers. This can be created from a vector if needed.\n",
    "land_shp = '/shared-projects/rev/projects/aoswt/data/shapefiles/coast/gshhs_f_l1_rev.shp'"
   ]
  },
  {
   "cell_type": "code",
   "execution_count": null,
   "metadata": {},
   "outputs": [],
   "source": [
    "cr = CombineRasters(template_f, layer_dir=layer_dir)"
   ]
  },
  {
   "cell_type": "markdown",
   "metadata": {},
   "source": [
    "## Build Offshore Barrier Layer"
   ]
  },
  {
   "cell_type": "code",
   "execution_count": null,
   "metadata": {},
   "outputs": [],
   "source": [
    "# Build composite barrier layer. \n",
    "cr.build_off_shore_barriers(barrier_files, forced_inclusion_files, slope_file=slope_file, \n",
    "                            save_tiff=True)"
   ]
  },
  {
   "cell_type": "markdown",
   "metadata": {},
   "source": [
    "## Minimum Friction Layers (Optional)\n",
    "One or more minimum friction rasters can be used to assign a minimum friction if desired.\n",
    "In this example, the land shapefile is being buffered to create a near-shore minimum\n",
    "friction layer. Other raster(s) could be used for minimum friction. If multiple minimum \n",
    "friction layers are specified, and they overlap, the highest minimum friction value is \n",
    "used. The minimum friction operation is applied after all other friction layers including \n",
    "depth and slope are combined. \n",
    "\n",
    "Note that any friction or barriers created in this notebook are ignored on land, where \n",
    "the land-based costs and barriers are used instead. \n"
   ]
  },
  {
   "cell_type": "code",
   "execution_count": null,
   "metadata": {},
   "outputs": [],
   "source": [
    "CREATE_NEAR_SHORE_FRICTION = True\n",
    "NEAR_SHORE_FRICTION_FILE = './near_shore_friction.tif'\n",
    "\n",
    "# The create_land_mask() function is being borrowed here to buffer and rasterize a vector\n",
    "if CREATE_NEAR_SHORE_FRICTION:\n",
    "    cr.create_land_mask(land_shp, save_tiff=True,\n",
    "                        filename=NEAR_SHORE_FRICTION_FILE,\n",
    "                        buffer_dist=500)  # meters (same units as the template raster)\n",
    "\n",
    "# Tuple and dict format is the same as the normal friction files. See above.\n",
    "minimum_friction_files = [\n",
    "    ({1: 4}, NEAR_SHORE_FRICTION_FILE),\n",
    "]"
   ]
  },
  {
   "cell_type": "markdown",
   "metadata": {},
   "source": [
    "## Build Offshore Friction"
   ]
  },
  {
   "cell_type": "code",
   "execution_count": null,
   "metadata": {},
   "outputs": [],
   "source": [
    "# Build composite friction layer. Only friction_files is required.\n",
    "cr.build_off_shore_friction(friction_files, \n",
    "                            slope_file=slope_file, \n",
    "                            bathy_file=bathy_file,\n",
    "                            bathy_depth_cutoff=-200, \n",
    "                            bathy_friction=2,\n",
    "                            minimum_friction_files=minimum_friction_files,\n",
    "                            save_tiff=True)"
   ]
  },
  {
   "cell_type": "markdown",
   "metadata": {},
   "source": [
    "## Create H5 File "
   ]
  },
  {
   "cell_type": "code",
   "execution_count": null,
   "metadata": {},
   "outputs": [],
   "source": [
    "# Existing AOSWT h5 file to pull lat/lng, profile from\n",
    "ex_aoswt_h5 = '/shared-projects/rev/projects/aoswt/data/exclusions/AOSWT_Exclusions.h5'\n",
    "\n",
    "# New AOSWT h5 file to write costs and barriers to\n",
    "aoswt_h5 = './example_aoswt_costs.h5'\n",
    "\n",
    "# Existing land costs and barrier\n",
    "land_h5 = '/shared-projects/rev/exclusions/xmission_costs.h5'\n",
    "land_barrier_layer = 'transmission_barrier'\n",
    "land_costs_layer = 'tie_line_costs_102MW'"
   ]
  },
  {
   "cell_type": "code",
   "execution_count": null,
   "metadata": {},
   "outputs": [],
   "source": [
    "# Create new AOSWT h5 file. This is time intensive and should only be performed\n",
    "# once. \n",
    "CREATE_NEW_H5_FILE = True\n",
    "if CREATE_NEW_H5_FILE:\n",
    "    cr.create_aoswt_h5(ex_aoswt_h5, aoswt_h5, overwrite=True)"
   ]
  },
  {
   "cell_type": "code",
   "execution_count": null,
   "metadata": {},
   "outputs": [],
   "source": [
    "# A land mask tiff is used to determine where to use land-based costs and barriers,\n",
    "# versus using the offshore friction and barriers. A vector can be converted to a \n",
    "# tiff if one is not already available. Note that a poorly chosen land mask and result\n",
    "# in friction gaps near the shore with no friction. The default land mask file name is \n",
    "# set in CombineRasters.LAND_MASK_FNAME.\n",
    "CREATE_LAND_MASK = True\n",
    "if CREATE_LAND_MASK:\n",
    "    cr.create_land_mask(land_shp, save_tiff=True)\n",
    "else:\n",
    "    cr.load_land_mask()"
   ]
  },
  {
   "cell_type": "code",
   "execution_count": null,
   "metadata": {},
   "outputs": [],
   "source": []
  },
  {
   "cell_type": "markdown",
   "metadata": {},
   "source": [
    "## Merge land-based and offshore frictions and barriers"
   ]
  },
  {
   "cell_type": "code",
   "execution_count": null,
   "metadata": {},
   "outputs": [],
   "source": [
    "# Merge barriers and write to h5\n",
    "cr.merge_os_and_land_barriers(land_h5, land_barrier_layer, aoswt_h5, save_tiff=True)"
   ]
  },
  {
   "cell_type": "code",
   "execution_count": null,
   "metadata": {},
   "outputs": [],
   "source": [
    "# Merge frictions and write to h5. Note that land costs are being scaled down \n",
    "# a predetermined amount so that paths can route over short stretches of land.\n",
    "cr.merge_os_and_land_friction(land_h5, land_costs_layer, aoswt_h5, \n",
    "                              land_cost_mult=1/15000, save_tiff=True) "
   ]
  },
  {
   "cell_type": "markdown",
   "metadata": {},
   "source": [
    "## Done!\n",
    "Congrats, you've now created the necessary layers to perform a least cost transmission analysis. \n",
    "Other steps that may be required to run the analysis:\n",
    "\n",
    "- Create the JSON configuration file (includes selected desired SC points).\n",
    "- Create the POI GeoPackage file. "
   ]
  }
 ],
 "metadata": {
  "kernelspec": {
   "display_name": "Python 3 (ipykernel)",
   "language": "python",
   "name": "python3"
  },
  "language_info": {
   "codemirror_mode": {
    "name": "ipython",
    "version": 3
   },
   "file_extension": ".py",
   "mimetype": "text/x-python",
   "name": "python",
   "nbconvert_exporter": "python",
   "pygments_lexer": "ipython3",
   "version": "3.9.17"
  }
 },
 "nbformat": 4,
 "nbformat_minor": 4
}
