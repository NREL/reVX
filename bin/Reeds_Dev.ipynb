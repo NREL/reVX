{
 "cells": [
  {
   "cell_type": "code",
   "execution_count": 1,
   "metadata": {
    "ExecuteTime": {
     "end_time": "2019-12-07T21:11:53.230252Z",
     "start_time": "2019-12-07T21:11:49.631160Z"
    }
   },
   "outputs": [],
   "source": [
    "import json\n",
    "import numpy as np\n",
    "import os\n",
    "import pandas as pd\n",
    "from scipy.stats import mode\n",
    "from reV import Resource\n",
    "from reVX.reeds import ReedsClassifier, ReedsProfiles, ReedsTimeslices\n",
    "\n",
    "test_dir = '/Users/mrossol/Git_Repos/reVX/tests/data'\n",
    "out_dir = os.path.join(test_dir, 'reeds')\n",
    "#out_dir = '/Users/mrossol/Downloads/'"
   ]
  },
  {
   "cell_type": "code",
   "execution_count": 54,
   "metadata": {},
   "outputs": [],
   "source": [
    "# def remove_bad_gids(row, thresh=99):\n",
    "#     gids = row['gen_gids']\n",
    "#     counts = row['gid_counts']\n",
    "#     convert = False\n",
    "#     if isinstance(gids, str):\n",
    "#         convert = True\n",
    "#         gids = json.loads(gids)\n",
    "#         counts = json.loads(counts)\n",
    "        \n",
    "#     pos = np.where(np.array(gids) < thresh)[0]\n",
    "    \n",
    "#     gids = [gids[i] for i in pos]\n",
    "#     counts = [counts[i] for i in pos]\n",
    "\n",
    "#     if convert:\n",
    "#         row['gen_gids'] = json.dumps(gids)\n",
    "#         row['gid_counts'] = json.dumps(counts)\n",
    "#     else:\n",
    "#         row['gen_gids'] = gids\n",
    "#         row['gid_counts'] = counts\n",
    "\n",
    "#     row['sites'] = len(gids)\n",
    "\n",
    "#     return row\n",
    "     \n",
    "    \n",
    "# sc_table = '/Users/mrossol/Git_Repos/reV/tests/data/sc_out/sc_full_out_1.csv'\n",
    "# sc_table = pd.read_csv(sc_table)\n",
    "# sc_table = sc_table.apply(remove_bad_gids, axis=1)\n",
    "# sc_table = sc_table.loc[sc_table['sites'] > 0].drop(columns=['sites'])\n",
    "\n",
    "# out_path = os.path.join(test_dir, 'reV_sc', 'sc_table.csv')\n",
    "# sc_table.to_csv(out_path, index=False)"
   ]
  },
  {
   "cell_type": "code",
   "execution_count": 7,
   "metadata": {
    "ExecuteTime": {
     "end_time": "2019-12-07T21:02:55.801454Z",
     "start_time": "2019-12-07T21:02:55.584003Z"
    }
   },
   "outputs": [],
   "source": [
    "rev_table = os.path.join(test_dir, 'reV_sc', 'sc_table.csv')\n",
    "resource_classes = os.path.join(test_dir, 'reeds', 'inputs', 'trg_breakpoints_naris.csv')\n",
    "\n",
    "table, agg = ReedsClassifier.create(rev_table, resource_classes, region_map='reeds_region',\n",
    "                                    sc_bins=5)\n",
    "\n",
    "out_path = os.path.join(out_dir, 'ReEDS_Classifications.csv')\n",
    "table.to_csv(out_path, index=False)\n",
    "\n",
    "out_path = os.path.join(out_dir, 'ReEDS_Aggregation.csv')\n",
    "agg.to_csv(out_path, index=False)"
   ]
  },
  {
   "cell_type": "code",
   "execution_count": 8,
   "metadata": {
    "ExecuteTime": {
     "end_time": "2019-12-07T21:02:57.708032Z",
     "start_time": "2019-12-07T21:02:55.887526Z"
    }
   },
   "outputs": [
    {
     "data": {
      "text/plain": [
       "({0: array([[0.   , 0.   , 0.   , ..., 0.   , 0.   , 0.   ],\n",
       "         [0.   , 0.   , 0.   , ..., 0.   , 0.   , 0.   ],\n",
       "         [0.   , 0.   , 0.   , ..., 0.   , 0.   , 0.   ],\n",
       "         ...,\n",
       "         [0.087, 0.086, 0.086, ..., 0.084, 0.083, 0.083],\n",
       "         [0.   , 0.   , 0.   , ..., 0.   , 0.   , 0.   ],\n",
       "         [0.   , 0.   , 0.   , ..., 0.   , 0.   , 0.   ]], dtype=float32)},\n",
       "     region  class rep_gen_gid rep_res_gid\n",
       " 0       31      2          41     1318658\n",
       " 1       11      2          76     1321872\n",
       " 2       31      1          77     1321903\n",
       " 3       11      1          86     1323879\n",
       " 4       35      2          29     1317475\n",
       " 5       35      1          81     1322022\n",
       " 6       36      1          86     1323872\n",
       " 7       34      3           4     1316416\n",
       " 8       34      2          48     1319194\n",
       " 9       15      2          79     1322010\n",
       " 10      15      3          83     1322010\n",
       " 11      10      1          83     1323263\n",
       " 12      17      2          84     1324107\n",
       " 13      34      1          32     1317956\n",
       " 14      13      2          33     1318119\n",
       " 15      15      1          84     1322360\n",
       " 16      17      1          91     1324887\n",
       " 17      13      3          87     1322740\n",
       " 18      13      1          87     1322740\n",
       " 19      40      1          63     1320643\n",
       " 20      40      2          70     1320852\n",
       " 21      14      1          89     1322779\n",
       " 22       1      2          97     1323131\n",
       " 23       1      3          57     1319724\n",
       " 24       1      1          97     1325752\n",
       " 25      28      2          21     1317045\n",
       " 26      30      2          58     1319725\n",
       " 27      28      1          16     1316764\n",
       " 28      30      1          51     1319508\n",
       " 29      12      3          95     1322784\n",
       " 30      12      2          90     1325749\n",
       " 31       2      1          56     1319672\n",
       " 32      12      1          93     1324024\n",
       " 33       0      1           1     1314973\n",
       " 34       6      2           2     1316348\n",
       " 35       6      1          31     1317598\n",
       " 36       2      2          59     1319790\n",
       " 37      26      1          93     1322907\n",
       " 38      27      2          96     1323129\n",
       " 39      27      1          96     1323129,\n",
       " DatetimeIndex(['2012-01-01 00:00:00', '2012-01-01 01:00:00',\n",
       "                '2012-01-01 02:00:00', '2012-01-01 03:00:00',\n",
       "                '2012-01-01 04:00:00', '2012-01-01 05:00:00',\n",
       "                '2012-01-01 06:00:00', '2012-01-01 07:00:00',\n",
       "                '2012-01-01 08:00:00', '2012-01-01 09:00:00',\n",
       "                ...\n",
       "                '2012-12-31 14:00:00', '2012-12-31 15:00:00',\n",
       "                '2012-12-31 16:00:00', '2012-12-31 17:00:00',\n",
       "                '2012-12-31 18:00:00', '2012-12-31 19:00:00',\n",
       "                '2012-12-31 20:00:00', '2012-12-31 21:00:00',\n",
       "                '2012-12-31 22:00:00', '2012-12-31 23:00:00'],\n",
       "               dtype='datetime64[ns]', length=8760, freq=None))"
      ]
     },
     "execution_count": 8,
     "metadata": {},
     "output_type": "execute_result"
    }
   ],
   "source": [
    "cf_profiles = os.path.join(test_dir, 'reV_gen', 'gen_pv_2012.h5')\n",
    "rev_table = os.path.join(out_dir, 'ReEDS_Classifications.csv')\n",
    "\n",
    "out_path = os.path.join(out_dir, 'ReEDS_Profiles.h5')\n",
    "ReedsProfiles.run(cf_profiles, rev_table, profiles_dset='cf_profile', rep_method='meanoid',\n",
    "                  err_method='rmse', n_profiles=1, reg_cols=('region', 'class'),\n",
    "                  parallel=False, fout=out_path, legacy_format=False)"
   ]
  },
  {
   "cell_type": "code",
   "execution_count": 4,
   "metadata": {
    "ExecuteTime": {
     "end_time": "2019-12-07T20:56:06.629646Z",
     "start_time": "2019-12-07T20:55:58.311313Z"
    }
   },
   "outputs": [
    {
     "data": {
      "text/plain": [
       "({0: array([[0.   , 0.   , 0.   , ..., 0.   , 0.   , 0.   ],\n",
       "         [0.   , 0.   , 0.   , ..., 0.   , 0.   , 0.   ],\n",
       "         [0.   , 0.   , 0.   , ..., 0.   , 0.   , 0.   ],\n",
       "         ...,\n",
       "         [0.087, 0.086, 0.086, ..., 0.084, 0.083, 0.083],\n",
       "         [0.   , 0.   , 0.   , ..., 0.   , 0.   , 0.   ],\n",
       "         [0.   , 0.   , 0.   , ..., 0.   , 0.   , 0.   ]], dtype=float32),\n",
       "  1: array([[0.   , 0.   , 0.   , ..., 0.   , 0.   , 0.   ],\n",
       "         [0.   , 0.   , 0.   , ..., 0.   , 0.   , 0.   ],\n",
       "         [0.   , 0.   , 0.   , ..., 0.   , 0.   , 0.   ],\n",
       "         ...,\n",
       "         [0.087, 0.086, 0.086, ..., 0.084, 0.08 , 0.083],\n",
       "         [0.   , 0.   , 0.   , ..., 0.   , 0.   , 0.   ],\n",
       "         [0.   , 0.   , 0.   , ..., 0.   , 0.   , 0.   ]], dtype=float32),\n",
       "  2: array([[0.   , 0.   , 0.   , ..., 0.   , 0.   , 0.   ],\n",
       "         [0.   , 0.   , 0.   , ..., 0.   , 0.   , 0.   ],\n",
       "         [0.   , 0.   , 0.   , ..., 0.   , 0.   , 0.   ],\n",
       "         ...,\n",
       "         [0.087, 0.087, 0.087, ..., 0.084, 0.08 , 0.083],\n",
       "         [0.   , 0.   , 0.   , ..., 0.   , 0.   , 0.   ],\n",
       "         [0.   , 0.   , 0.   , ..., 0.   , 0.   , 0.   ]], dtype=float32)},\n",
       "     region  class   rep_gen_gid                  rep_res_gid\n",
       " 0       31      2  [41, 65, 66]  [1318658, 1320695, 1320698]\n",
       " 1       11      2  [76, 85, 88]  [1321872, 1322531, 1322761]\n",
       " 2       31      1  [77, 86, 76]  [1321903, 1322539, 1321872]\n",
       " 3       11      1  [86, 85, 85]  [1323879, 1322531, 1322531]\n",
       " 4       35      2    [29, 8, 3]  [1317475, 1316636, 1316414]\n",
       " 5       35      1  [81, 77, 86]  [1322022, 1321903, 1322539]\n",
       " 6       36      1  [86, 86, 86]  [1323872, 1323872, 1323872]\n",
       " 7       34      3     [4, 4, 4]  [1316416, 1316416, 1316416]\n",
       " 8       34      2  [48, 14, 17]  [1319194, 1316748, 1316770]\n",
       " 9       15      2  [79, 47, 60]  [1322010, 1319177, 1319966]\n",
       " 10      15      3  [83, 82, 79]  [1322010, 1322023, 1323263]\n",
       " 11      10      1  [83, 83, 83]  [1323263, 1323263, 1323263]\n",
       " 12      17      2  [84, 83, 83]  [1324107, 1322358, 1322358]\n",
       " 13      34      1  [32, 38, 49]  [1317956, 1318373, 1319394]\n",
       " 14      13      2   [33, 6, 49]  [1318119, 1316584, 1319394]\n",
       " 15      15      1  [84, 74, 91]  [1322360, 1321085, 1322851]\n",
       " 16      17      1  [91, 87, 84]  [1324887, 1322360, 1324108]\n",
       " 17      13      3   [87, 6, 75]  [1322740, 1316584, 1321125]\n",
       " 18      13      1  [87, 89, 89]  [1322740, 1323522, 1323522]\n",
       " 19      40      1  [63, 11, 10]  [1320643, 1316721, 1316712]\n",
       " 20      40      2  [70, 39, 19]  [1320852, 1318383, 1317014]\n",
       " 21      14      1  [89, 94, 94]  [1322779, 1323717, 1323717]\n",
       " 22       1      2  [97, 97, 25]  [1323131, 1323131, 1317140]\n",
       " 23       1      3  [57, 68, 98]  [1319724, 1320847, 1323133]\n",
       " 24       1      1  [97, 94, 94]  [1325752, 1323587, 1323587]\n",
       " 25      28      2   [21, 12, 9]  [1317045, 1316725, 1316642]\n",
       " 26      30      2  [58, 69, 43]  [1319725, 1320850, 1318880]\n",
       " 27      28      1  [16, 15, 16]  [1316764, 1316755, 1316764]\n",
       " 28      30      1  [51, 35, 71]  [1319508, 1318267, 1320894]\n",
       " 29      12      3  [95, 90, 71]  [1322784, 1321975, 1320894]\n",
       " 30      12      2  [90, 67, 93]  [1325749, 1322784, 1324024]\n",
       " 31       2      1  [56, 54, 67]  [1319672, 1319579, 1320843]\n",
       " 32      12      1  [93, 90, 90]  [1324024, 1322784, 1322784]\n",
       " 33       0      1     [1, 0, 0]  [1314973, 1314958, 1314958]\n",
       " 34       6      2     [2, 1, 5]  [1316348, 1314973, 1316429]\n",
       " 35       6      1  [31, 34, 37]  [1317598, 1318158, 1318341]\n",
       " 36       2      2  [59, 37, 67]  [1319790, 1318341, 1320843]\n",
       " 37      26      1  [93, 93, 93]  [1322907, 1322907, 1322907]\n",
       " 38      27      2  [96, 92, 92]  [1323129, 1322857, 1322857]\n",
       " 39      27      1  [96, 92, 92]  [1323129, 1322857, 1322857],\n",
       " DatetimeIndex(['2012-01-01 00:00:00', '2012-01-01 01:00:00',\n",
       "                '2012-01-01 02:00:00', '2012-01-01 03:00:00',\n",
       "                '2012-01-01 04:00:00', '2012-01-01 05:00:00',\n",
       "                '2012-01-01 06:00:00', '2012-01-01 07:00:00',\n",
       "                '2012-01-01 08:00:00', '2012-01-01 09:00:00',\n",
       "                ...\n",
       "                '2012-12-31 14:00:00', '2012-12-31 15:00:00',\n",
       "                '2012-12-31 16:00:00', '2012-12-31 17:00:00',\n",
       "                '2012-12-31 18:00:00', '2012-12-31 19:00:00',\n",
       "                '2012-12-31 20:00:00', '2012-12-31 21:00:00',\n",
       "                '2012-12-31 22:00:00', '2012-12-31 23:00:00'],\n",
       "               dtype='datetime64[ns]', length=8760, freq=None))"
      ]
     },
     "execution_count": 4,
     "metadata": {},
     "output_type": "execute_result"
    }
   ],
   "source": [
    "cf_profiles = os.path.join(test_dir, 'reV_gen', 'gen_pv_2012.h5')\n",
    "rev_table = os.path.join(out_dir, 'ReEDS_Classifications.csv')\n",
    "\n",
    "out_path = os.path.join(out_dir, 'ReEDS_Profiles.h5')\n",
    "ReedsProfiles.run(cf_profiles, rev_table, profiles_dset='cf_profile', rep_method='meanoid',\n",
    "                  err_method='rmse', n_profiles=3, reg_cols=('region', 'class'),\n",
    "                  parallel=False, fout=out_path, legacy_format=True)"
   ]
  },
  {
   "cell_type": "code",
   "execution_count": 3,
   "metadata": {
    "ExecuteTime": {
     "end_time": "2019-12-07T20:36:01.696154Z",
     "start_time": "2019-12-07T20:33:27.631872Z"
    }
   },
   "outputs": [],
   "source": [
    "rep_profiles = out_path = os.path.join(out_dir, 'ReEDS_Profiles.h5')\n",
    "cf_profiles = os.path.join(test_dir, 'reV_gen', 'gen_pv_2012.h5')\n",
    "time_slices = os.path.join(test_dir, 'reeds/inputs/timeslices.csv')\n",
    "rev_table = os.path.join(out_dir, 'ReEDS_Classifications.csv')\n",
    "\n",
    "stats_rep, coeffs_rep = ReedsTimeslices.run(rep_profiles, time_slices, legacy_format=True)\n",
    "out_path = os.path.join(out_dir, 'ReEDS_Timeslice_rep_stats.csv')\n",
    "stats_rep.to_csv(out_path, index=False)\n",
    "out_path = os.path.join(out_dir, 'ReEDS_Timeslice_rep_coeffs.csv')\n",
    "coeffs_rep.to_csv(out_path, index=False)\n",
    "\n",
    "stats_cf, _ = ReedsTimeslices.run(cf_profiles, time_slices, rev_table=rev_table, max_workers=1,\n",
    "                                  legacy_format=True)\n",
    "out_path = os.path.join(out_dir, 'ReEDS_Timeslice_cf_stats.csv')\n",
    "stats_cf.to_csv(out_path, index=False)"
   ]
  },
  {
   "cell_type": "code",
   "execution_count": null,
   "metadata": {},
   "outputs": [],
   "source": []
  }
 ],
 "metadata": {
  "kernelspec": {
   "display_name": "Python [conda env:revx]",
   "language": "python",
   "name": "conda-env-revx-py"
  },
  "language_info": {
   "codemirror_mode": {
    "name": "ipython",
    "version": 3
   },
   "file_extension": ".py",
   "mimetype": "text/x-python",
   "name": "python",
   "nbconvert_exporter": "python",
   "pygments_lexer": "ipython3",
   "version": "3.7.5"
  }
 },
 "nbformat": 4,
 "nbformat_minor": 2
}
